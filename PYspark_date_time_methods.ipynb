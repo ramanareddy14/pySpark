{
 "cells": [
  {
   "cell_type": "code",
   "execution_count": 0,
   "metadata": {
    "application/vnd.databricks.v1+cell": {
     "cellMetadata": {
      "byteLimit": 2048000,
      "rowLimit": 10000
     },
     "inputWidgets": {},
     "nuid": "75b4a258-f214-4d71-8a6c-001bc1bbac36",
     "showTitle": false,
     "title": ""
    }
   },
   "outputs": [],
   "source": [
    "from pyspark.sql.functions import col,expr\n",
    "data=[(\"2019-01-23\",1),(\"2019-06-24\",2),(\"2019-09-20\",3)]\n"
   ]
  },
  {
   "cell_type": "markdown",
   "metadata": {
    "application/vnd.databricks.v1+cell": {
     "cellMetadata": {
      "byteLimit": 2048000,
      "rowLimit": 10000
     },
     "inputWidgets": {},
     "nuid": "85244d8a-1437-419f-8fae-05d24130d8db",
     "showTitle": false,
     "title": ""
    }
   },
   "source": [
    "pyspark.sql.functions\n",
    "\n",
    "### Current Date and Timestamp:\n",
    "\n",
    "* **current_date():** Returns the current date as a DataFrame column.\n",
    "* **current_timestamp():** Returns the current timestamp as a DataFrame column.\n",
    "\n",
    "### Date and Timestamp Functions:\n",
    " \n",
    "* **date_format(col, format):** Formats a date or timestamp column based on the specified format string.\n",
    "    * df.select(to_timestamp(df.t, 'yyyy-MM-dd HH:mm:ss')  -- here we are converting the column named t to our custom time format\n",
    "* **to_date(col, format_optional):** Converts a string column to a date column using the default format 'yyyy-MM-dd'.\n",
    "   * df.select(to_date(df.t, 'yyyy-MM-dd HH:mm:ss').alias('date')).collect() -- convets the column elements to custom time format\n",
    "* **to_timestamp(col, format_optional):** Converts a string column to a timestamp column using the default format 'yyyy-MM-dd HH:mm:ss'.\n",
    "  * --\n",
    "* **datediff(end, start):** Computes the difference in days between two date columns.\n",
    "* **months_between(end, start):** Computes the difference in months between two date or timestamp columns.\n",
    "* **add_months(start, num_months):** Adds a specified number of months to a date or timestamp column.\n",
    "\n",
    "## Extracting Date and Time Components:\n",
    "\n",
    "* **dayofweek(col):** Extracts the day of the week (1-7) from a date or timestamp column.\n",
    "* **dayofmonth(col):** Extracts the day of the month (1-31) from a date or timestamp column.\n",
    "* **dayofyear(col):** Extracts the day of the year (1-365) from a date or timestamp column.\n",
    "* **month(col):** Extracts the month (1-12) from a date or timestamp column.\n",
    "* **year(col):** Extracts the year from a date or timestamp column.\n",
    "* **hour(col):** Extracts the hour (0-23) from a timestamp column.\n",
    "* **minute(col):** Extracts the minute (0-59) from a timestamp column.\n",
    "* **second(col):** Extracts the second (0-59) from a timestamp column.\n",
    "* **quarter(col):** Extracts the quarter of the year (1-4) from a date or timestamp column.\n",
    "* **weekofyear(col):** Extracts the week number of the year (1-53) from a date or timestamp column.\n",
    "\n",
    "## Date Arithmetic:\n",
    "\n",
    "* **date_add(start, days):** Adds a specified number of days to a date column.\n",
    "* **date_sub(start, days):** Subtracts a specified number of days from a date column.\n",
    "* **add_months(date,numbertoadd):**\n",
    "* **last_day(col):** Returns the last day of the month for a given date column.\n",
    "* **next_day(start, dayOfWeek):** Returns the first date that is later than the specified date and falls on the specified day of the week."
   ]
  },
  {
   "cell_type": "code",
   "execution_count": 0,
   "metadata": {
    "application/vnd.databricks.v1+cell": {
     "cellMetadata": {
      "byteLimit": 2048000,
      "rowLimit": 10000
     },
     "inputWidgets": {},
     "nuid": "0d307bcd-f861-4ba7-a7df-02c79b6eac36",
     "showTitle": false,
     "title": ""
    }
   },
   "outputs": [
    {
     "output_type": "stream",
     "name": "stdout",
     "output_type": "stream",
     "text": [
      "+----------+---------+----------+------------+-----------------------+---------------------------------------------+-----------+------------------+--------+\n|date      |increment|inc_date  |Current_date|current_timestamp      |date_format(current_timestamp, dd-yyyy-mm-MM)|futere_date|current_day_ofweek|col_date|\n+----------+---------+----------+------------+-----------------------+---------------------------------------------+-----------+------------------+--------+\n|2019-01-23|1        |2019-02-23|2024-02-21  |2024-02-21 06:56:38.284|21-2024-56-02                                |2024-05-21 |4                 |3       |\n|2019-06-24|2        |2019-08-24|2024-02-21  |2024-02-21 06:56:38.284|21-2024-56-02                                |2024-05-21 |4                 |3       |\n|2019-09-20|3        |2019-12-20|2024-02-21  |2024-02-21 06:56:38.284|21-2024-56-02                                |2024-05-21 |4                 |3       |\n+----------+---------+----------+------------+-----------------------+---------------------------------------------+-----------+------------------+--------+\n\n"
     ]
    }
   ],
   "source": [
    "# expr(\"add_months(to_date(date,'yyyy-MM-dd'), cast(increment as int))\").alias(\"inc_date\")\n",
    "\n",
    "from pyspark.sql.functions import *\n",
    "\n",
    "df2 = df.withColumn('Current_date',current_date()).withColumn('current_timestamp',current_timestamp())\n",
    "df3 = df2.select('*',date_format(col('current_timestamp'),'dd-yyyy-mm-MM'))\n",
    "df3.withColumn('futere_date',add_months(col('Current_date'),3))\\\n",
    "    .withColumn('current_day_ofweek',dayofweek(current_date()))\\\n",
    "    .withColumn('col_date',dayofweek(col('futere_date'))).show(truncate=False)"
   ]
  },
  {
   "cell_type": "code",
   "execution_count": 0,
   "metadata": {
    "application/vnd.databricks.v1+cell": {
     "cellMetadata": {},
     "inputWidgets": {},
     "nuid": "88761feb-673c-4f71-96a0-98edd7021653",
     "showTitle": false,
     "title": ""
    }
   },
   "outputs": [],
   "source": []
  }
 ],
 "metadata": {
  "application/vnd.databricks.v1+notebook": {
   "dashboards": [],
   "language": "python",
   "notebookMetadata": {
    "pythonIndentUnit": 4
   },
   "notebookName": "PYspark_time",
   "widgets": {}
  }
 },
 "nbformat": 4,
 "nbformat_minor": 0
}
